{
  "nbformat": 4,
  "nbformat_minor": 0,
  "metadata": {
    "colab": {
      "provenance": []
    },
    "kernelspec": {
      "name": "python3",
      "display_name": "Python 3"
    },
    "language_info": {
      "name": "python"
    }
  },
  "cells": [
    {
      "cell_type": "markdown",
      "source": [
        "# Python Introduction\n",
        "\n",
        "Python is a popular programming language. It was created by Guido van Rossum, and released in 1991.\n",
        "\n",
        "It is used for:\n",
        "\n",
        "- web development (server-side),\n",
        "- software development,\n",
        "- mathematics,\n",
        "- system scripting.\n",
        "\n",
        "What can Python do?\n",
        "- Python can be used on a server to create web applications.\n",
        "- Python can be used alongside software to create workflows.\n",
        "- Python can connect to database systems. It can also read and modify files.\n",
        "- Python can be used to handle big data and perform complex mathematics.\n",
        "- Python can be used for rapid prototyping, or for production-ready software development.\n",
        "\n",
        "Why Python?\n",
        "\n",
        "- Python works on different platforms (Windows, Mac, Linux, Raspberry Pi, etc).\n",
        "- Python has a simple syntax similar to the English language.\n",
        "- Python has syntax that allows developers to write programs with fewer lines than some other programming languages.\n",
        "- Python runs on an interpreter system, meaning that code can be executed as soon as it is written. This means that prototyping can be very quick.\n",
        "Python can be treated in a procedural way, an object-oriented way or a functional way.\n",
        "\n",
        "Good to know\n",
        "\n",
        "- The most recent major version of Python is Python 3, which we shall be using in this tutorial. However, Python 2, although not being updated with anything other than security updates, is still quite popular.\n",
        "- In this tutorial Python will be written in a text editor. It is possible to write Python in an Integrated Development Environment, such as Thonny, Pycharm, Netbeans or Eclipse which are particularly useful when managing larger collections of Python files.\n",
        "\n",
        "Python Syntax compared to other programming languages\n",
        "\n",
        "- Python was designed for readability, and has some similarities to the English language with influence from mathematics.\n",
        "- Python uses new lines to complete a command, as opposed to other programming languages which often use semicolons or parentheses.\n",
        "- Python relies on indentation, using whitespace, to define scope; such as the scope of loops, functions and classes. Other programming languages often use curly-brackets for this purpose."
      ],
      "metadata": {
        "id": "xCd8h-k4Fc26"
      }
    },
    {
      "cell_type": "code",
      "execution_count": 1,
      "metadata": {
        "colab": {
          "base_uri": "https://localhost:8080/"
        },
        "id": "wFc_BsVSEwWf",
        "outputId": "890db3c5-f365-4596-b0fd-672f711fd2d6"
      },
      "outputs": [
        {
          "output_type": "stream",
          "name": "stdout",
          "text": [
            "Hello World!\n"
          ]
        }
      ],
      "source": [
        "# Example Python output\n",
        "print(\"Hello World!\")"
      ]
    },
    {
      "cell_type": "markdown",
      "source": [
        "# Python Syntax"
      ],
      "metadata": {
        "id": "2gOMghKIHZFO"
      }
    },
    {
      "cell_type": "markdown",
      "source": [
        "### Basic Syntax"
      ],
      "metadata": {
        "id": "BcsmV2p3Ivey"
      }
    },
    {
      "cell_type": "markdown",
      "source": [
        "**Showwing Output To User**"
      ],
      "metadata": {
        "id": "KyrNUskRLFgZ"
      }
    },
    {
      "cell_type": "code",
      "source": [
        "print(\"Content that you want to show to user\")"
      ],
      "metadata": {
        "colab": {
          "base_uri": "https://localhost:8080/"
        },
        "id": "N1kE5nIkHeJj",
        "outputId": "8b8fb568-8254-4fa5-9900-235fec406e67"
      },
      "execution_count": 10,
      "outputs": [
        {
          "output_type": "stream",
          "name": "stdout",
          "text": [
            "Content that you want to show to user\n"
          ]
        }
      ]
    },
    {
      "cell_type": "code",
      "source": [
        "# Another Example\n",
        "# we can display the content present in object using prit function as follows:-\n",
        "name = \"Akbar Fitriawan\"\n",
        "print(\"Hi my name is :\", name)"
      ],
      "metadata": {
        "colab": {
          "base_uri": "https://localhost:8080/"
        },
        "id": "-swP3fE5JVt7",
        "outputId": "9a044205-fe18-4460-dcf0-9637936b7226"
      },
      "execution_count": 6,
      "outputs": [
        {
          "output_type": "stream",
          "name": "stdout",
          "text": [
            "Hi my name is : Akbar Fitriawan\n"
          ]
        }
      ]
    },
    {
      "cell_type": "markdown",
      "source": [
        "**Taking Input From The User**"
      ],
      "metadata": {
        "id": "zZqyS5HcLJ6D"
      }
    },
    {
      "cell_type": "code",
      "source": [
        "# The input function is used to take input as string or character from the user as follows:\n",
        "input_name = input(\"what's your name ?  \")\n",
        "print(\"Hi!\", input_name)"
      ],
      "metadata": {
        "colab": {
          "base_uri": "https://localhost:8080/"
        },
        "id": "uUui03I7J3tU",
        "outputId": "ebac1343-acb5-4fdf-9902-217f76866655"
      },
      "execution_count": 9,
      "outputs": [
        {
          "output_type": "stream",
          "name": "stdout",
          "text": [
            "what's your name ?  Akbar\n",
            "Hi Akbar\n"
          ]
        }
      ]
    },
    {
      "cell_type": "code",
      "source": [
        "# To take input in form of other datatypes we need to typecaste them as follows:-\n",
        "\n",
        "# To take input as an integer:-\n",
        "age_input = int(input(\"How old are you ? \"))\n",
        "\n",
        "print(\"You ara\", age_input, \"years old\")"
      ],
      "metadata": {
        "colab": {
          "base_uri": "https://localhost:8080/"
        },
        "id": "wMZLRdMjLQBB",
        "outputId": "fbf4c8b0-05c8-4bd0-ee50-1338c2768fd8"
      },
      "execution_count": 12,
      "outputs": [
        {
          "output_type": "stream",
          "name": "stdout",
          "text": [
            "How old are you ? 100\n",
            "You ara 100 years old\n"
          ]
        }
      ]
    },
    {
      "cell_type": "code",
      "source": [
        "# To take input as an float:-\n",
        "price_tshirt = float(input(\"what's the price your T-shirt ? \"))\n",
        "print(\"My t-shirt costs\", price_tshirt, \"rupiah\")"
      ],
      "metadata": {
        "colab": {
          "base_uri": "https://localhost:8080/"
        },
        "id": "qk2IVKZeL4MF",
        "outputId": "ba3f5353-f01c-4c7e-d9a8-c510170ac3ac"
      },
      "execution_count": 13,
      "outputs": [
        {
          "output_type": "stream",
          "name": "stdout",
          "text": [
            "what's the price your T-shirt ? 10000\n",
            "My t-shirt costs 10000.0 rupiah\n"
          ]
        }
      ]
    },
    {
      "cell_type": "markdown",
      "source": [
        "**Range Function**\n",
        "\n",
        "range function returns a sequence of numbers, eg, numbers starting from 0 to n-1 for range(0, n)\n",
        "\n",
        "Syntax >> range(start,stop,step)"
      ],
      "metadata": {
        "id": "N1jN5648Nt1U"
      }
    },
    {
      "cell_type": "code",
      "source": [
        "# Example display all even numbers between 1 to 100\n",
        "for i in range(0, 101, 2):\n",
        "  print(i)"
      ],
      "metadata": {
        "colab": {
          "base_uri": "https://localhost:8080/"
        },
        "id": "S3Za0SUvNzuM",
        "outputId": "1dfb8676-bd91-4921-ec6c-7d6d188667c6"
      },
      "execution_count": 16,
      "outputs": [
        {
          "output_type": "stream",
          "name": "stdout",
          "text": [
            "0\n",
            "2\n",
            "4\n",
            "6\n",
            "8\n",
            "10\n",
            "12\n",
            "14\n",
            "16\n",
            "18\n",
            "20\n",
            "22\n",
            "24\n",
            "26\n",
            "28\n",
            "30\n",
            "32\n",
            "34\n",
            "36\n",
            "38\n",
            "40\n",
            "42\n",
            "44\n",
            "46\n",
            "48\n",
            "50\n",
            "52\n",
            "54\n",
            "56\n",
            "58\n",
            "60\n",
            "62\n",
            "64\n",
            "66\n",
            "68\n",
            "70\n",
            "72\n",
            "74\n",
            "76\n",
            "78\n",
            "80\n",
            "82\n",
            "84\n",
            "86\n",
            "88\n",
            "90\n",
            "92\n",
            "94\n",
            "96\n",
            "98\n",
            "100\n"
          ]
        }
      ]
    },
    {
      "cell_type": "markdown",
      "source": [
        "**Comments**\n",
        "\n",
        "Comments are used to make the code more understandable for programmers, and they are not executed by compiler or interpreter.\n"
      ],
      "metadata": {
        "id": "KpZh8ctGO1TN"
      }
    },
    {
      "cell_type": "markdown",
      "source": [
        "Single-line Comment"
      ],
      "metadata": {
        "id": "RMU44pgWRfCJ"
      }
    },
    {
      "cell_type": "code",
      "source": [
        "# This is a single line comment"
      ],
      "metadata": {
        "id": "q_blKeorN1ru"
      },
      "execution_count": 17,
      "outputs": []
    },
    {
      "cell_type": "markdown",
      "source": [
        "Multi-line Comment"
      ],
      "metadata": {
        "id": "7v7z2EcfRiGh"
      }
    },
    {
      "cell_type": "code",
      "source": [
        "\n",
        "\"\"\"\n",
        "This is a multi-line comment\n",
        "\"\"\"\n",
        "print(\"Hello World!\")"
      ],
      "metadata": {
        "colab": {
          "base_uri": "https://localhost:8080/"
        },
        "id": "aqxbLIemO8yI",
        "outputId": "4d74848f-3bcf-40f4-c625-66dff7560afc"
      },
      "execution_count": 24,
      "outputs": [
        {
          "output_type": "stream",
          "name": "stdout",
          "text": [
            "Hello World!\n"
          ]
        }
      ]
    },
    {
      "cell_type": "markdown",
      "source": [
        "**Escape Sequence**\n",
        "\n",
        "An escape sequence is a sequence of characters; it doesn't represent itself (but is translated into another character) when used inside string literal or character. Some of the escape sequence characters are as follows:"
      ],
      "metadata": {
        "id": "q4PdNqDePnLo"
      }
    },
    {
      "cell_type": "markdown",
      "source": [
        "Newline"
      ],
      "metadata": {
        "id": "k8Yl48HoRoDa"
      }
    },
    {
      "cell_type": "code",
      "source": [
        "# Newline Character\n",
        "# Syntax >> \\nText\n",
        "print(\"Hello World! \\nThis is a new line\")"
      ],
      "metadata": {
        "colab": {
          "base_uri": "https://localhost:8080/"
        },
        "id": "iFBipQeNPVmc",
        "outputId": "f8da4a1e-324a-4c32-cbf9-c38e96cfd43e"
      },
      "execution_count": 29,
      "outputs": [
        {
          "output_type": "stream",
          "name": "stdout",
          "text": [
            "Hello World! \n",
            "This is a new line\n"
          ]
        }
      ]
    },
    {
      "cell_type": "markdown",
      "source": [
        "Backslash"
      ],
      "metadata": {
        "id": "_2yrPq3QSHfM"
      }
    },
    {
      "cell_type": "code",
      "source": [
        "# It adds a backslash\n",
        "# Syntax >> \\\\\n",
        "print(\"win \\\\ Lose\")"
      ],
      "metadata": {
        "colab": {
          "base_uri": "https://localhost:8080/"
        },
        "id": "hfvGbP9iQz40",
        "outputId": "ef13eb34-610d-4b6a-a182-1815350383c2"
      },
      "execution_count": 30,
      "outputs": [
        {
          "output_type": "stream",
          "name": "stdout",
          "text": [
            "win \\ Lose\n"
          ]
        }
      ]
    },
    {
      "cell_type": "markdown",
      "source": [
        "Single Quote"
      ],
      "metadata": {
        "id": "qBPvFFddSvL0"
      }
    },
    {
      "cell_type": "code",
      "source": [
        "# it adds a single qoutation mark\n",
        "# Syntax >> \"\\'\"\n",
        "print(\"Jum\\'at\")"
      ],
      "metadata": {
        "colab": {
          "base_uri": "https://localhost:8080/"
        },
        "id": "wleKkrNgSQO2",
        "outputId": "8ce53a4e-e062-43c7-b13b-3adce8daf550"
      },
      "execution_count": 33,
      "outputs": [
        {
          "output_type": "stream",
          "name": "stdout",
          "text": [
            "Jum'at\n"
          ]
        }
      ]
    },
    {
      "cell_type": "markdown",
      "source": [
        "Tab"
      ],
      "metadata": {
        "id": "qf_LKeCnTN4v"
      }
    },
    {
      "cell_type": "code",
      "source": [
        "# It gives a tab space\n",
        "print(\"Hallo \\tGUYS\")"
      ],
      "metadata": {
        "colab": {
          "base_uri": "https://localhost:8080/"
        },
        "id": "kuorBUdZTDin",
        "outputId": "373ce166-664a-4db3-c6d7-4e6390bc015b"
      },
      "execution_count": 34,
      "outputs": [
        {
          "output_type": "stream",
          "name": "stdout",
          "text": [
            "Hallo \tGUYS\n"
          ]
        }
      ]
    },
    {
      "cell_type": "markdown",
      "source": [
        "Backspace"
      ],
      "metadata": {
        "id": "gcBhUpxWTh5L"
      }
    },
    {
      "cell_type": "code",
      "source": [
        "# It adds a backspace\n",
        "print(\"Hallo \\bGUYS\")"
      ],
      "metadata": {
        "colab": {
          "base_uri": "https://localhost:8080/"
        },
        "id": "5PF8-I0oTfIo",
        "outputId": "b75a5d69-bc0d-4be8-fb52-52bb80c3a0f3"
      },
      "execution_count": 39,
      "outputs": [
        {
          "output_type": "stream",
          "name": "stdout",
          "text": [
            "Hallo \bGUYS\n"
          ]
        }
      ]
    },
    {
      "cell_type": "markdown",
      "source": [
        "Octal Value"
      ],
      "metadata": {
        "id": "89eJ6ObPUAZG"
      }
    },
    {
      "cell_type": "code",
      "source": [
        "# It represents the value of an octal number\n",
        "print(\"\\ooo\\145\\154\\154\\157\")\n"
      ],
      "metadata": {
        "colab": {
          "base_uri": "https://localhost:8080/"
        },
        "id": "7pH52EvrTp5b",
        "outputId": "13eb825a-e7d2-4f16-ef75-e706f63eea82"
      },
      "execution_count": 47,
      "outputs": [
        {
          "output_type": "stream",
          "name": "stdout",
          "text": [
            "\\oooello\n"
          ]
        }
      ]
    },
    {
      "cell_type": "code",
      "source": [],
      "metadata": {
        "id": "qfU3BAsPUQnK"
      },
      "execution_count": null,
      "outputs": []
    }
  ]
}